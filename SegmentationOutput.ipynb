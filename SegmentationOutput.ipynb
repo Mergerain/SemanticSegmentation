{
 "cells": [
  {
   "cell_type": "code",
   "execution_count": 36,
   "metadata": {},
   "outputs": [],
   "source": [
    "from keras.models import Model\n",
    "import pickle\n",
    "import csv\n",
    "import csv\n",
    "import cv2\n",
    "import numpy as np\n",
    "import matplotlib.pyplot as plt\n",
    "import scipy\n",
    "from scipy.misc import imread\n",
    "from keras import optimizers\n",
    "from keras.layers import Flatten, Dense, Lambda, Convolution2D, MaxPooling2D,Input,Cropping2D,ZeroPadding2D\n",
    "from sklearn.utils import shuffle\n",
    "from keras.models import Sequential,load_model\n",
    "from keras.layers import Activation, Dropout, UpSampling2D, Lambda,Cropping2D\n",
    "from keras.layers import Conv2DTranspose, Conv2D, MaxPooling2D,Deconvolution2D,Reshape,Add\n",
    "from keras.layers.normalization import BatchNormalization\n",
    "from keras import backend as K\n",
    "from keras.preprocessing.image import ImageDataGenerator\n",
    "from keras import regularizers\n",
    "from keras.optimizers import SGD\n",
    "import h5py\n",
    "from moviepy.editor import VideoFileClip\n",
    "from IPython.display import HTML\n",
    "import h5py"
   ]
  },
  {
   "cell_type": "code",
   "execution_count": null,
   "metadata": {},
   "outputs": [],
   "source": [
    "#1.Output the lane lines mark video"
   ]
  },
  {
   "cell_type": "code",
   "execution_count": 28,
   "metadata": {},
   "outputs": [],
   "source": [
    "def predictlane(model_path,model_input_size,videopath):\n",
    "    #load the trained model\n",
    "    global model\n",
    "    net_model = load_model(model_path)\n",
    "    model = Sequential()\n",
    "    model.add(net_model)\n",
    "    model.add(Activation('softmax'))\n",
    "    #define inner function to draw lane on images\n",
    "    def drawlane(image):\n",
    "        image = np.asarray(image)\n",
    "        original_imgsize = (1080,1920,3)\n",
    "        highway_im = image\n",
    "        #change the image to the model input size\n",
    "        image = scipy.misc.imresize(image, model_input_size)\n",
    "        image = image[np.newaxis,:] #increase the dimension\n",
    "        #predict softmax graph\n",
    "        softmax = model.predict([image])\n",
    "        #downscale the output tensor dimension and mark the coresponding pixel in mask\n",
    "        softmax_r = softmax[0][:,:,1].reshape(model_input_size[0], model_input_size[1])\n",
    "        segmentation_r = (softmax_r > 0.5).reshape(model_input_size[0], model_input_size[1], 1)\n",
    "        #define object color\n",
    "        obj_color_schema = [[0, 255, 0, 127]]\n",
    "        mask = np.dot(segmentation_r, np.array(obj_color_schema))\n",
    "        #recover the mask back to cropped image size\n",
    "        mask = scipy.misc.imresize(mask, (1080,1920,3))\n",
    "        mask = mask[650:1080][:]\n",
    "        mask = scipy.misc.toimage(mask, mode=\"RGBA\")\n",
    "        #combine the mask and the original image\n",
    "        highway_im = scipy.misc.toimage(highway_im)\n",
    "        highway_im.paste(mask, box=(0,649), mask=mask)\n",
    "        highway_im = np.asarray(highway_im)\n",
    "        return highway_im\n",
    "    \n",
    "    test_output = './segmarklane.mp4'\n",
    "    clip1 = VideoFileClip(videopath).subclip(0,315)\n",
    "    white_clip = clip1.fl_image(drawlane) #NOTE: this function expects color images!!\n",
    "    %time white_clip.write_videofile(test_output, audio=False)"
   ]
  },
  {
   "cell_type": "code",
   "execution_count": 19,
   "metadata": {},
   "outputs": [
    {
     "name": "stdout",
     "output_type": "stream",
     "text": [
      "[MoviePy] >>>> Building video ./segmarklane.mp4\n",
      "[MoviePy] Writing video ./segmarklane.mp4\n"
     ]
    },
    {
     "name": "stderr",
     "output_type": "stream",
     "text": [
      "100%|██████████| 9441/9441 [1:11:43<00:00,  2.19it/s]\n"
     ]
    },
    {
     "name": "stdout",
     "output_type": "stream",
     "text": [
      "[MoviePy] Done.\n",
      "[MoviePy] >>>> Video ready: ./segmarklane.mp4 \n",
      "\n",
      "CPU times: user 1h 55min 29s, sys: 4min 1s, total: 1h 59min 31s\n",
      "Wall time: 1h 11min 46s\n"
     ]
    }
   ],
   "source": [
    "model_path = './Lenetlanebeta1.h5'\n",
    "videopath = './video 2_processed.mov'\n",
    "model_input_size = (540,960,3)\n",
    "predictlane(model_path,model_input_size,videopath)"
   ]
  },
  {
   "cell_type": "code",
   "execution_count": null,
   "metadata": {},
   "outputs": [],
   "source": []
  }
 ],
 "metadata": {
  "kernelspec": {
   "display_name": "Python 3",
   "language": "python",
   "name": "python3"
  },
  "language_info": {
   "codemirror_mode": {
    "name": "ipython",
    "version": 3
   },
   "file_extension": ".py",
   "mimetype": "text/x-python",
   "name": "python",
   "nbconvert_exporter": "python",
   "pygments_lexer": "ipython3",
   "version": "3.6.7"
  }
 },
 "nbformat": 4,
 "nbformat_minor": 2
}
