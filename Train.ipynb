{
 "cells": [
  {
   "cell_type": "code",
   "execution_count": 22,
   "metadata": {},
   "outputs": [],
   "source": [
    "from keras.models import Model\n",
    "from keras.applications import VGG16,VGG19\n",
    "import csv\n",
    "import csv\n",
    "import cv2\n",
    "import glob\n",
    "import pickle\n",
    "import numpy as np\n",
    "import matplotlib.pyplot as plt\n",
    "import scipy\n",
    "from scipy.misc import imread\n",
    "from keras import optimizers\n",
    "from keras.layers import Flatten, Dense, Lambda, Convolution2D, MaxPooling2D,Input\n",
    "from sklearn.utils import shuffle\n",
    "from keras.models import Sequential,load_model\n",
    "from keras.layers import Activation, Dropout, UpSampling2D, Lambda,Cropping2D,ZeroPadding2D\n",
    "from keras.layers import Conv2DTranspose, Conv2D, MaxPooling2D,Deconvolution2D,Reshape,Add\n",
    "from keras.layers.normalization import BatchNormalization\n",
    "from keras import backend as K\n",
    "from keras.preprocessing.image import ImageDataGenerator\n",
    "from keras import regularizers\n",
    "from keras.optimizers import SGD,Adam\n",
    "import h5py\n"
   ]
  },
  {
   "cell_type": "code",
   "execution_count": null,
   "metadata": {},
   "outputs": [],
   "source": [
    "#1. Train lane line segmentation model"
   ]
  },
  {
   "cell_type": "code",
   "execution_count": 2,
   "metadata": {},
   "outputs": [],
   "source": [
    "X_train = pickle.load(open('/floyd/input/highwaysemantic1/X_lanetrain','rb'))\n",
    "Y_train = pickle.load(open('/floyd/input/highwaysemantic1/Y_lanetrain','rb'))"
   ]
  },
  {
   "cell_type": "code",
   "execution_count": 4,
   "metadata": {},
   "outputs": [
    {
     "name": "stderr",
     "output_type": "stream",
     "text": [
      "/usr/local/lib/python3.6/site-packages/ipykernel_launcher.py:7: UserWarning: Update your `Conv2D` call to the Keras 2 API: `Conv2D(24, (5, 5), activation=\"relu\", name=\"Conv1\", strides=(4, 4), padding=\"same\")`\n",
      "  import sys\n",
      "/usr/local/lib/python3.6/site-packages/ipykernel_launcher.py:8: UserWarning: Update your `MaxPooling2D` call to the Keras 2 API: `MaxPooling2D((3, 3), strides=(2, 2), name=\"pool1\", padding=\"same\")`\n",
      "  \n",
      "/usr/local/lib/python3.6/site-packages/ipykernel_launcher.py:12: UserWarning: Update your `Conv2D` call to the Keras 2 API: `Conv2D(48, (5, 5), activation=\"relu\", name=\"conv2\", strides=(1, 1), padding=\"same\")`\n",
      "  if sys.path[0] == '':\n",
      "/usr/local/lib/python3.6/site-packages/ipykernel_launcher.py:13: UserWarning: Update your `MaxPooling2D` call to the Keras 2 API: `MaxPooling2D((3, 3), strides=(2, 2), name=\"pool2\", padding=\"same\")`\n",
      "  del sys.path[0]\n",
      "/usr/local/lib/python3.6/site-packages/ipykernel_launcher.py:17: UserWarning: Update your `Conv2D` call to the Keras 2 API: `Conv2D(96, (3, 3), activation=\"relu\", name=\"conv3\", strides=(1, 1), padding=\"same\")`\n",
      "/usr/local/lib/python3.6/site-packages/ipykernel_launcher.py:20: UserWarning: Update your `Conv2D` call to the Keras 2 API: `Conv2D(484, (11, 11), activation=\"relu\", name=\"conv4\", strides=(1, 1), padding=\"same\")`\n",
      "/usr/local/lib/python3.6/site-packages/ipykernel_launcher.py:24: UserWarning: Update your `Conv2D` call to the Keras 2 API: `Conv2D(484, (1, 1), activation=\"relu\", name=\"Conv5\", strides=(1, 1), padding=\"same\")`\n",
      "/usr/local/lib/python3.6/site-packages/ipykernel_launcher.py:28: UserWarning: Update your `Conv2D` call to the Keras 2 API: `Conv2D(2, (1, 1), activation=\"relu\", name=\"Conv6\", strides=(1, 1), padding=\"same\")`\n",
      "/usr/local/lib/python3.6/site-packages/ipykernel_launcher.py:34: UserWarning: Update your `Conv2D` call to the Keras 2 API: `Conv2D(2, (1, 1), activation=\"relu\", name=\"Pool2_feat\", strides=(1, 1), padding=\"same\")`\n",
      "/usr/local/lib/python3.6/site-packages/ipykernel_launcher.py:38: UserWarning: Update your `Conv2DTranspose` call to the Keras 2 API: `Conv2DTranspose(2, (4, 4), name=\"Deconv1\", strides=(2, 2), padding=\"same\")`\n",
      "/usr/local/lib/python3.6/site-packages/ipykernel_launcher.py:42: UserWarning: Update your `Conv2D` call to the Keras 2 API: `Conv2D(2, (1, 1), activation=\"relu\", name=\"Pool1_feat\", strides=(1, 1), padding=\"same\")`\n",
      "/usr/local/lib/python3.6/site-packages/ipykernel_launcher.py:46: UserWarning: Update your `Conv2DTranspose` call to the Keras 2 API: `Conv2DTranspose(2, (16, 16), name=\"Deconv3\", strides=(8, 8), padding=\"same\")`\n",
      "/usr/local/lib/python3.6/site-packages/ipykernel_launcher.py:49: UserWarning: Update your `Model` call to the Keras 2 API: `Model(inputs=[<tf.Tenso..., outputs=[<tf.Tenso...)`\n",
      "/usr/local/lib/python3.6/site-packages/ipykernel_launcher.py:9: UserWarning: The `nb_epoch` argument in `fit` has been renamed `epochs`.\n",
      "  if __name__ == '__main__':\n"
     ]
    },
    {
     "name": "stdout",
     "output_type": "stream",
     "text": [
      "Train on 251 samples, validate on 63 samples\n",
      "Epoch 1/10\n",
      "251/251 [==============================] - 18s 70ms/step - loss: 0.4759 - val_loss: 0.4096\n",
      "Epoch 2/10\n",
      "251/251 [==============================] - 10s 41ms/step - loss: 0.2895 - val_loss: 0.1559\n",
      "Epoch 3/10\n",
      "251/251 [==============================] - 10s 41ms/step - loss: 0.1045 - val_loss: 0.0633\n",
      "Epoch 4/10\n",
      "251/251 [==============================] - 10s 41ms/step - loss: 0.0544 - val_loss: 0.0460\n",
      "Epoch 5/10\n",
      "251/251 [==============================] - 10s 41ms/step - loss: 0.0414 - val_loss: 0.0370\n",
      "Epoch 6/10\n",
      "251/251 [==============================] - 10s 41ms/step - loss: 0.0370 - val_loss: 0.0343\n",
      "Epoch 7/10\n",
      "251/251 [==============================] - 10s 42ms/step - loss: 0.0340 - val_loss: 0.0325\n",
      "Epoch 8/10\n",
      "251/251 [==============================] - 10s 42ms/step - loss: 0.0316 - val_loss: 0.0286\n",
      "Epoch 9/10\n",
      "251/251 [==============================] - 11s 42ms/step - loss: 0.0299 - val_loss: 0.0272\n",
      "Epoch 10/10\n",
      "251/251 [==============================] - 10s 42ms/step - loss: 0.0281 - val_loss: 0.0263\n"
     ]
    }
   ],
   "source": [
    "num_class = 2\n",
    "img_size = (540, 960, 3)\n",
    "model = Lenet(img_size,num_class)\n",
    "    # model = Lenet(img_size,num_class)\n",
    "    # sgd = SGD(lr=0.0001, decay=0.0005, momentum=0.5)\n",
    "    # adam = Adam(lr=0.0001, beta_1=0.9, beta_2=0.999, epsilon=None, decay=0.0, amsgrad=False)\n",
    "    # categorical_crossentropy\n",
    "model.compile(loss='mse', optimizer='Adam')\n",
    "model.fit(X_train, Y_train, validation_split=0.2, shuffle=True, nb_epoch=10, batch_size=15)\n",
    "model.save('./lanebeta.h5')"
   ]
  },
  {
   "cell_type": "code",
   "execution_count": 6,
   "metadata": {},
   "outputs": [
    {
     "name": "stderr",
     "output_type": "stream",
     "text": [
      "/usr/local/lib/python3.6/site-packages/ipykernel_launcher.py:5: UserWarning: The `nb_epoch` argument in `fit` has been renamed `epochs`.\n",
      "  \"\"\"\n"
     ]
    },
    {
     "name": "stdout",
     "output_type": "stream",
     "text": [
      "Train on 251 samples, validate on 63 samples\n",
      "Epoch 1/10\n",
      "251/251 [==============================] - 16s 63ms/step - loss: 0.0477 - val_loss: 0.0310\n",
      "Epoch 2/10\n",
      "251/251 [==============================] - 12s 48ms/step - loss: 0.0286 - val_loss: 0.0254\n",
      "Epoch 3/10\n",
      "251/251 [==============================] - 12s 48ms/step - loss: 0.0264 - val_loss: 0.0243\n",
      "Epoch 4/10\n",
      "251/251 [==============================] - 12s 48ms/step - loss: 0.0249 - val_loss: 0.0228\n",
      "Epoch 5/10\n",
      "251/251 [==============================] - 12s 48ms/step - loss: 0.0236 - val_loss: 0.0219\n",
      "Epoch 6/10\n",
      "251/251 [==============================] - 12s 48ms/step - loss: 0.0224 - val_loss: 0.0204\n",
      "Epoch 7/10\n",
      "251/251 [==============================] - 12s 48ms/step - loss: 0.0213 - val_loss: 0.0190\n",
      "Epoch 8/10\n",
      "251/251 [==============================] - 12s 48ms/step - loss: 0.0203 - val_loss: 0.0183\n",
      "Epoch 9/10\n",
      "251/251 [==============================] - 12s 48ms/step - loss: 0.0195 - val_loss: 0.0177\n",
      "Epoch 10/10\n",
      "251/251 [==============================] - 12s 49ms/step - loss: 0.0187 - val_loss: 0.0168\n"
     ]
    }
   ],
   "source": [
    "model = load_model('./lanebeta.h5')\n",
    "#sgd = SGD(lr=0.0001, decay=0.0005, momentum=0.5)\n",
    "#adam = Adam(lr=0.001, beta_1=0.9, beta_2=0.999, epsilon=None, decay=0.0, amsgrad=False)\n",
    "model.compile(loss = 'mse', optimizer= 'Adam')\n",
    "model.fit(X_train,Y_train,validation_split = 0.2,shuffle = True,nb_epoch=10,batch_size=8)\n",
    "model.save('Lenetlanebeta1.h5')"
   ]
  },
  {
   "cell_type": "code",
   "execution_count": 4,
   "metadata": {},
   "outputs": [],
   "source": [
    "def Lenet(img_size,num_class):\n",
    "        #input size:540x960x3; \n",
    "    input_img = Input(shape = img_size)\n",
    "    input_adj = Lambda(lambda x:x/255.0-0.5)(input_img)\n",
    "    #Encoder:\n",
    "    #Conv1+pool1\n",
    "    Conv1 = Convolution2D(24,5,5, border_mode='same',subsample = (4,4), activation='relu',name = 'Conv1')(input_adj)\n",
    "    Pool1 = MaxPooling2D((3, 3), strides=(2, 2), border_mode='same',name = 'pool1')(Conv1)\n",
    "    Pool1_skip = Pool1 #skip connection\n",
    "\n",
    "    #Conv2+pool2\n",
    "    Conv2 = Convolution2D(48, 5,5, border_mode='same',subsample = (1,1), activation='relu',name = 'conv2')(Pool1)\n",
    "    Pool2 = MaxPooling2D((3, 3), strides=(2, 2), border_mode='same',name = 'pool2')(Conv2)\n",
    "    Pool2_skip = Pool2 #skip connection\n",
    "\n",
    "    #Conv3\n",
    "    Conv3 = Convolution2D(96,3,3, border_mode='same',subsample = (1,1), activation='relu',name = 'conv3')(Pool2)\n",
    "\n",
    "    #Conv6 + drop\n",
    "    Conv4 = Convolution2D(484,11,11, border_mode='same',subsample = (1,1), activation='relu',name = 'conv4')(Conv3)\n",
    "    Drop4 = Dropout(0.5,name = 'Drop4')(Conv4)\n",
    "\n",
    "    #Conv7 + drop\n",
    "    Conv5 = Convolution2D(484,1,1, border_mode='same',subsample = (1,1), activation='relu',name = 'Conv5')(Drop4)\n",
    "    Drop5 = Dropout(0.5,name = 'Drop5')(Conv5)\n",
    "\n",
    "    #Conv8 \n",
    "    Conv6 = Convolution2D(num_class,1,1, border_mode='same',subsample = (1,1), activation='relu',name = 'Conv6')(Drop5)\n",
    "\n",
    "    #Decoder:\n",
    "\n",
    "    #skip connection of pool2 and Deconv1:\n",
    "    Pool2_skip = Lambda(lambda x: x * 1e-1, name='scale_pool1')(Pool2_skip)\n",
    "    Pool2_skip = Convolution2D(num_class,1,1, border_mode='same',subsample = (1,1), activation='relu',name = 'Pool2_feat')(Pool2_skip)\n",
    "    Add_1 = Add(name = 'Add1')([Conv6,Pool2_skip])\n",
    "\n",
    "    #Deconv1:\n",
    "    Deconv1 = Deconvolution2D(num_class,4,4, subsample=(2, 2), border_mode='same',name = 'Deconv1')(Conv6)\n",
    "    #Deconv1 = Cropping2D(cropping=((1, 0), (0, 0)),name = 'Deconv1_crop')(Deconv1)\n",
    "    #skip connection of pool1 and Deconv2:\n",
    "    Pool1_skip = Lambda(lambda x: x * 1e-2, name='scale_pool1')(Pool1_skip)\n",
    "    Pool1_skip = Convolution2D(num_class,1,1, border_mode='same',subsample = (1,1), activation='relu',name = 'Pool1_feat')(Pool1_skip)\n",
    "    Add_2 = Add(name = 'Add2')([Deconv1,Pool1_skip])\n",
    "\n",
    "    #Deconv3:\n",
    "    Deconv3 = Deconvolution2D(num_class,16,16, subsample=(8, 8), border_mode='same',name = 'Deconv3')(Add_2)\n",
    "    Output = Cropping2D(cropping=((4, 0), (0, 0)),name = 'Deconv2_crop')(Deconv3)\n",
    "\n",
    "    model = Model(input =[input_img],output = [Output])\n",
    "    return model"
   ]
  },
  {
   "cell_type": "code",
   "execution_count": null,
   "metadata": {},
   "outputs": [],
   "source": []
  }
 ],
 "metadata": {
  "kernelspec": {
   "display_name": "Python 3",
   "language": "python",
   "name": "python3"
  },
  "language_info": {
   "codemirror_mode": {
    "name": "ipython",
    "version": 3
   },
   "file_extension": ".py",
   "mimetype": "text/x-python",
   "name": "python",
   "nbconvert_exporter": "python",
   "pygments_lexer": "ipython3",
   "version": "3.6.7"
  }
 },
 "nbformat": 4,
 "nbformat_minor": 2
}
